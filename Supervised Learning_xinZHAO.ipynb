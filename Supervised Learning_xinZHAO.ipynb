{
 "cells": [
  {
   "cell_type": "markdown",
   "metadata": {},
   "source": [
    "# Supervised Learning\n",
    "- The idea is to predict bike flow based on history of rideships.\n",
    "- Split your date into Train and Test set. You can learn on 1 year data and test on 1\n",
    "month. (considering the yearly growth of users)\n",
    "- Feel free to add features from other sources (eg. types of days, school holidays,\n",
    "weather information, sociodemographic data, etc)\n",
    "- Try a supervised learning model (ANN, XGBoost, SVM, etc) on your choice.\n",
    "- Predict the flow for your test data and compare your results with the real data.\n",
    "- Calculate the errors and explain how you can improve your results."
   ]
  },
  {
   "cell_type": "code",
   "execution_count": 5,
   "metadata": {},
   "outputs": [],
   "source": [
    "import folium\n",
    "import pandas as pd\n",
    "import matplotlib as mpl\n",
    "import numpy as np\n",
    "import matplotlib.pyplot as plt\n",
    "import pandas as pd"
   ]
  },
  {
   "cell_type": "code",
   "execution_count": 6,
   "metadata": {},
   "outputs": [
    {
     "ename": "FileNotFoundError",
     "evalue": "[Errno 2] File b'hubway-data/201501-hubway-tripdata.csv' does not exist: b'hubway-data/201501-hubway-tripdata.csv'",
     "output_type": "error",
     "traceback": [
      "\u001b[0;31m---------------------------------------------------------------------------\u001b[0m",
      "\u001b[0;31mFileNotFoundError\u001b[0m                         Traceback (most recent call last)",
      "\u001b[0;32m<ipython-input-6-d15b50d9705b>\u001b[0m in \u001b[0;36m<module>\u001b[0;34m\u001b[0m\n\u001b[0;32m----> 1\u001b[0;31m \u001b[0mTrip201501\u001b[0m\u001b[0;34m=\u001b[0m\u001b[0mpd\u001b[0m\u001b[0;34m.\u001b[0m\u001b[0mread_csv\u001b[0m\u001b[0;34m(\u001b[0m\u001b[0;34m'hubway-data/201501-hubway-tripdata.csv'\u001b[0m\u001b[0;34m)\u001b[0m\u001b[0;34m\u001b[0m\u001b[0;34m\u001b[0m\u001b[0m\n\u001b[0m\u001b[1;32m      2\u001b[0m \u001b[0mTrip201502\u001b[0m\u001b[0;34m=\u001b[0m\u001b[0mpd\u001b[0m\u001b[0;34m.\u001b[0m\u001b[0mread_csv\u001b[0m\u001b[0;34m(\u001b[0m\u001b[0;34m'hubway-data/201502-hubway-tripdata.csv'\u001b[0m\u001b[0;34m)\u001b[0m\u001b[0;34m\u001b[0m\u001b[0;34m\u001b[0m\u001b[0m\n\u001b[1;32m      3\u001b[0m \u001b[0mTrip201503\u001b[0m\u001b[0;34m=\u001b[0m\u001b[0mpd\u001b[0m\u001b[0;34m.\u001b[0m\u001b[0mread_csv\u001b[0m\u001b[0;34m(\u001b[0m\u001b[0;34m'hubway-data/201503-hubway-tripdata.csv'\u001b[0m\u001b[0;34m)\u001b[0m\u001b[0;34m\u001b[0m\u001b[0;34m\u001b[0m\u001b[0m\n\u001b[1;32m      4\u001b[0m \u001b[0mTrip201504\u001b[0m\u001b[0;34m=\u001b[0m\u001b[0mpd\u001b[0m\u001b[0;34m.\u001b[0m\u001b[0mread_csv\u001b[0m\u001b[0;34m(\u001b[0m\u001b[0;34m'hubway-data/201504-hubway-tripdata.csv'\u001b[0m\u001b[0;34m)\u001b[0m\u001b[0;34m\u001b[0m\u001b[0;34m\u001b[0m\u001b[0m\n\u001b[1;32m      5\u001b[0m \u001b[0mTrip201505\u001b[0m\u001b[0;34m=\u001b[0m\u001b[0mpd\u001b[0m\u001b[0;34m.\u001b[0m\u001b[0mread_csv\u001b[0m\u001b[0;34m(\u001b[0m\u001b[0;34m'hubway-data/201505-hubway-tripdata.csv'\u001b[0m\u001b[0;34m)\u001b[0m\u001b[0;34m\u001b[0m\u001b[0;34m\u001b[0m\u001b[0m\n",
      "\u001b[0;32m/Library/Frameworks/Python.framework/Versions/3.8/lib/python3.8/site-packages/pandas/io/parsers.py\u001b[0m in \u001b[0;36mparser_f\u001b[0;34m(filepath_or_buffer, sep, delimiter, header, names, index_col, usecols, squeeze, prefix, mangle_dupe_cols, dtype, engine, converters, true_values, false_values, skipinitialspace, skiprows, skipfooter, nrows, na_values, keep_default_na, na_filter, verbose, skip_blank_lines, parse_dates, infer_datetime_format, keep_date_col, date_parser, dayfirst, cache_dates, iterator, chunksize, compression, thousands, decimal, lineterminator, quotechar, quoting, doublequote, escapechar, comment, encoding, dialect, error_bad_lines, warn_bad_lines, delim_whitespace, low_memory, memory_map, float_precision)\u001b[0m\n\u001b[1;32m    683\u001b[0m         )\n\u001b[1;32m    684\u001b[0m \u001b[0;34m\u001b[0m\u001b[0m\n\u001b[0;32m--> 685\u001b[0;31m         \u001b[0;32mreturn\u001b[0m \u001b[0m_read\u001b[0m\u001b[0;34m(\u001b[0m\u001b[0mfilepath_or_buffer\u001b[0m\u001b[0;34m,\u001b[0m \u001b[0mkwds\u001b[0m\u001b[0;34m)\u001b[0m\u001b[0;34m\u001b[0m\u001b[0;34m\u001b[0m\u001b[0m\n\u001b[0m\u001b[1;32m    686\u001b[0m \u001b[0;34m\u001b[0m\u001b[0m\n\u001b[1;32m    687\u001b[0m     \u001b[0mparser_f\u001b[0m\u001b[0;34m.\u001b[0m\u001b[0m__name__\u001b[0m \u001b[0;34m=\u001b[0m \u001b[0mname\u001b[0m\u001b[0;34m\u001b[0m\u001b[0;34m\u001b[0m\u001b[0m\n",
      "\u001b[0;32m/Library/Frameworks/Python.framework/Versions/3.8/lib/python3.8/site-packages/pandas/io/parsers.py\u001b[0m in \u001b[0;36m_read\u001b[0;34m(filepath_or_buffer, kwds)\u001b[0m\n\u001b[1;32m    455\u001b[0m \u001b[0;34m\u001b[0m\u001b[0m\n\u001b[1;32m    456\u001b[0m     \u001b[0;31m# Create the parser.\u001b[0m\u001b[0;34m\u001b[0m\u001b[0;34m\u001b[0m\u001b[0;34m\u001b[0m\u001b[0m\n\u001b[0;32m--> 457\u001b[0;31m     \u001b[0mparser\u001b[0m \u001b[0;34m=\u001b[0m \u001b[0mTextFileReader\u001b[0m\u001b[0;34m(\u001b[0m\u001b[0mfp_or_buf\u001b[0m\u001b[0;34m,\u001b[0m \u001b[0;34m**\u001b[0m\u001b[0mkwds\u001b[0m\u001b[0;34m)\u001b[0m\u001b[0;34m\u001b[0m\u001b[0;34m\u001b[0m\u001b[0m\n\u001b[0m\u001b[1;32m    458\u001b[0m \u001b[0;34m\u001b[0m\u001b[0m\n\u001b[1;32m    459\u001b[0m     \u001b[0;32mif\u001b[0m \u001b[0mchunksize\u001b[0m \u001b[0;32mor\u001b[0m \u001b[0miterator\u001b[0m\u001b[0;34m:\u001b[0m\u001b[0;34m\u001b[0m\u001b[0;34m\u001b[0m\u001b[0m\n",
      "\u001b[0;32m/Library/Frameworks/Python.framework/Versions/3.8/lib/python3.8/site-packages/pandas/io/parsers.py\u001b[0m in \u001b[0;36m__init__\u001b[0;34m(self, f, engine, **kwds)\u001b[0m\n\u001b[1;32m    893\u001b[0m             \u001b[0mself\u001b[0m\u001b[0;34m.\u001b[0m\u001b[0moptions\u001b[0m\u001b[0;34m[\u001b[0m\u001b[0;34m\"has_index_names\"\u001b[0m\u001b[0;34m]\u001b[0m \u001b[0;34m=\u001b[0m \u001b[0mkwds\u001b[0m\u001b[0;34m[\u001b[0m\u001b[0;34m\"has_index_names\"\u001b[0m\u001b[0;34m]\u001b[0m\u001b[0;34m\u001b[0m\u001b[0;34m\u001b[0m\u001b[0m\n\u001b[1;32m    894\u001b[0m \u001b[0;34m\u001b[0m\u001b[0m\n\u001b[0;32m--> 895\u001b[0;31m         \u001b[0mself\u001b[0m\u001b[0;34m.\u001b[0m\u001b[0m_make_engine\u001b[0m\u001b[0;34m(\u001b[0m\u001b[0mself\u001b[0m\u001b[0;34m.\u001b[0m\u001b[0mengine\u001b[0m\u001b[0;34m)\u001b[0m\u001b[0;34m\u001b[0m\u001b[0;34m\u001b[0m\u001b[0m\n\u001b[0m\u001b[1;32m    896\u001b[0m \u001b[0;34m\u001b[0m\u001b[0m\n\u001b[1;32m    897\u001b[0m     \u001b[0;32mdef\u001b[0m \u001b[0mclose\u001b[0m\u001b[0;34m(\u001b[0m\u001b[0mself\u001b[0m\u001b[0;34m)\u001b[0m\u001b[0;34m:\u001b[0m\u001b[0;34m\u001b[0m\u001b[0;34m\u001b[0m\u001b[0m\n",
      "\u001b[0;32m/Library/Frameworks/Python.framework/Versions/3.8/lib/python3.8/site-packages/pandas/io/parsers.py\u001b[0m in \u001b[0;36m_make_engine\u001b[0;34m(self, engine)\u001b[0m\n\u001b[1;32m   1133\u001b[0m     \u001b[0;32mdef\u001b[0m \u001b[0m_make_engine\u001b[0m\u001b[0;34m(\u001b[0m\u001b[0mself\u001b[0m\u001b[0;34m,\u001b[0m \u001b[0mengine\u001b[0m\u001b[0;34m=\u001b[0m\u001b[0;34m\"c\"\u001b[0m\u001b[0;34m)\u001b[0m\u001b[0;34m:\u001b[0m\u001b[0;34m\u001b[0m\u001b[0;34m\u001b[0m\u001b[0m\n\u001b[1;32m   1134\u001b[0m         \u001b[0;32mif\u001b[0m \u001b[0mengine\u001b[0m \u001b[0;34m==\u001b[0m \u001b[0;34m\"c\"\u001b[0m\u001b[0;34m:\u001b[0m\u001b[0;34m\u001b[0m\u001b[0;34m\u001b[0m\u001b[0m\n\u001b[0;32m-> 1135\u001b[0;31m             \u001b[0mself\u001b[0m\u001b[0;34m.\u001b[0m\u001b[0m_engine\u001b[0m \u001b[0;34m=\u001b[0m \u001b[0mCParserWrapper\u001b[0m\u001b[0;34m(\u001b[0m\u001b[0mself\u001b[0m\u001b[0;34m.\u001b[0m\u001b[0mf\u001b[0m\u001b[0;34m,\u001b[0m \u001b[0;34m**\u001b[0m\u001b[0mself\u001b[0m\u001b[0;34m.\u001b[0m\u001b[0moptions\u001b[0m\u001b[0;34m)\u001b[0m\u001b[0;34m\u001b[0m\u001b[0;34m\u001b[0m\u001b[0m\n\u001b[0m\u001b[1;32m   1136\u001b[0m         \u001b[0;32melse\u001b[0m\u001b[0;34m:\u001b[0m\u001b[0;34m\u001b[0m\u001b[0;34m\u001b[0m\u001b[0m\n\u001b[1;32m   1137\u001b[0m             \u001b[0;32mif\u001b[0m \u001b[0mengine\u001b[0m \u001b[0;34m==\u001b[0m \u001b[0;34m\"python\"\u001b[0m\u001b[0;34m:\u001b[0m\u001b[0;34m\u001b[0m\u001b[0;34m\u001b[0m\u001b[0m\n",
      "\u001b[0;32m/Library/Frameworks/Python.framework/Versions/3.8/lib/python3.8/site-packages/pandas/io/parsers.py\u001b[0m in \u001b[0;36m__init__\u001b[0;34m(self, src, **kwds)\u001b[0m\n\u001b[1;32m   1915\u001b[0m         \u001b[0mkwds\u001b[0m\u001b[0;34m[\u001b[0m\u001b[0;34m\"usecols\"\u001b[0m\u001b[0;34m]\u001b[0m \u001b[0;34m=\u001b[0m \u001b[0mself\u001b[0m\u001b[0;34m.\u001b[0m\u001b[0musecols\u001b[0m\u001b[0;34m\u001b[0m\u001b[0;34m\u001b[0m\u001b[0m\n\u001b[1;32m   1916\u001b[0m \u001b[0;34m\u001b[0m\u001b[0m\n\u001b[0;32m-> 1917\u001b[0;31m         \u001b[0mself\u001b[0m\u001b[0;34m.\u001b[0m\u001b[0m_reader\u001b[0m \u001b[0;34m=\u001b[0m \u001b[0mparsers\u001b[0m\u001b[0;34m.\u001b[0m\u001b[0mTextReader\u001b[0m\u001b[0;34m(\u001b[0m\u001b[0msrc\u001b[0m\u001b[0;34m,\u001b[0m \u001b[0;34m**\u001b[0m\u001b[0mkwds\u001b[0m\u001b[0;34m)\u001b[0m\u001b[0;34m\u001b[0m\u001b[0;34m\u001b[0m\u001b[0m\n\u001b[0m\u001b[1;32m   1918\u001b[0m         \u001b[0mself\u001b[0m\u001b[0;34m.\u001b[0m\u001b[0munnamed_cols\u001b[0m \u001b[0;34m=\u001b[0m \u001b[0mself\u001b[0m\u001b[0;34m.\u001b[0m\u001b[0m_reader\u001b[0m\u001b[0;34m.\u001b[0m\u001b[0munnamed_cols\u001b[0m\u001b[0;34m\u001b[0m\u001b[0;34m\u001b[0m\u001b[0m\n\u001b[1;32m   1919\u001b[0m \u001b[0;34m\u001b[0m\u001b[0m\n",
      "\u001b[0;32mpandas/_libs/parsers.pyx\u001b[0m in \u001b[0;36mpandas._libs.parsers.TextReader.__cinit__\u001b[0;34m()\u001b[0m\n",
      "\u001b[0;32mpandas/_libs/parsers.pyx\u001b[0m in \u001b[0;36mpandas._libs.parsers.TextReader._setup_parser_source\u001b[0;34m()\u001b[0m\n",
      "\u001b[0;31mFileNotFoundError\u001b[0m: [Errno 2] File b'hubway-data/201501-hubway-tripdata.csv' does not exist: b'hubway-data/201501-hubway-tripdata.csv'"
     ]
    }
   ],
   "source": [
    "Trip201501=pd.read_csv('hubway-data/201501-hubway-tripdata.csv')\n",
    "Trip201502=pd.read_csv('hubway-data/201502-hubway-tripdata.csv')\n",
    "Trip201503=pd.read_csv('hubway-data/201503-hubway-tripdata.csv')\n",
    "Trip201504=pd.read_csv('hubway-data/201504-hubway-tripdata.csv')\n",
    "Trip201505=pd.read_csv('hubway-data/201505-hubway-tripdata.csv')\n",
    "Trip201506=pd.read_csv('hubway-data/201506-hubway-tripdata.csv')\n",
    "Trip201507=pd.read_csv('hubway-data/201507-hubway-tripdata.csv')\n",
    "Trip201508=pd.read_csv('hubway-data/201508-hubway-tripdata.csv')\n",
    "Trip201509=pd.read_csv('hubway-data/201509-hubway-tripdata.csv')\n",
    "Trip201510=pd.read_csv('hubway-data/201510-hubway-tripdata.csv')\n",
    "Trip201511=pd.read_csv('hubway-data/201511-hubway-tripdata.csv')\n",
    "Trip201512=pd.read_csv('hubway-data/201512-hubway-tripdata.csv')\n",
    "Trip201601=pd.read_csv('hubway-data/201601-hubway-tripdata.csv')\n",
    "Trip201602=pd.read_csv('hubway-data/201602-hubway-tripdata.csv')\n",
    "Trip201603=pd.read_csv('hubway-data/201603-hubway-tripdata.csv')\n",
    "Trip201604=pd.read_csv('hubway-data/201604-hubway-tripdata.csv')\n",
    "Trip201605=pd.read_csv('hubway-data/201605-hubway-tripdata.csv')\n",
    "Trip201606=pd.read_csv('hubway-data/201606-hubway-tripdata.csv')\n",
    "Trip201607=pd.read_csv('hubway-data/201607-hubway-tripdata.csv')\n",
    "Trip201608=pd.read_csv('hubway-data/201608-hubway-tripdata.csv')\n",
    "Trip201609=pd.read_csv('hubway-data/201609-hubway-tripdata.csv')\n",
    "Trip201610=pd.read_csv('hubway-data/201610-hubway-tripdata.csv')\n",
    "Trip201611=pd.read_csv('hubway-data/201611-hubway-tripdata.csv')\n",
    "Trip201701=pd.read_csv('hubway-data/201701-hubway-tripdata.csv')\n",
    "Trip201702=pd.read_csv('hubway-data/201702-hubway-tripdata.csv')\n",
    "Trip201703=pd.read_csv('hubway-data/201703-hubway-tripdata.csv')\n",
    "Trip201704=pd.read_csv('hubway-data/201704-hubway-tripdata.csv')\n",
    "Trip201705=pd.read_csv('hubway-data/201705-hubway-tripdata.csv')\n",
    "Trip201706=pd.read_csv('hubway-data/201706-hubway-tripdata.csv')\n",
    "Trip201707=pd.read_csv('hubway-data/201707-hubway-tripdata.csv')\n",
    "Trip201708=pd.read_csv('hubway-data/201708-hubway-tripdata.csv')\n",
    "Trip201709=pd.read_csv('hubway-data/201709-hubway-tripdata.csv')\n",
    "Trip201710=pd.read_csv('hubway-data/201710-hubway-tripdata.csv')\n",
    "Trip201711=pd.read_csv('hubway-data/201711-hubway-tripdata.csv')\n",
    "Trip201712=pd.read_csv('hubway-data/201712-hubway-tripdata.csv')\n"
   ]
  },
  {
   "cell_type": "code",
   "execution_count": 7,
   "metadata": {},
   "outputs": [
    {
     "ename": "NameError",
     "evalue": "name 'Trip201501' is not defined",
     "output_type": "error",
     "traceback": [
      "\u001b[0;31m---------------------------------------------------------------------------\u001b[0m",
      "\u001b[0;31mNameError\u001b[0m                                 Traceback (most recent call last)",
      "\u001b[0;32m<ipython-input-7-d218d1a1d51c>\u001b[0m in \u001b[0;36m<module>\u001b[0;34m\u001b[0m\n\u001b[1;32m      2\u001b[0m \u001b[0;34m\u001b[0m\u001b[0m\n\u001b[1;32m      3\u001b[0m a=[\n\u001b[0;32m----> 4\u001b[0;31m     \u001b[0mTrip201501\u001b[0m\u001b[0;34m[\u001b[0m\u001b[0;34m'start station id'\u001b[0m\u001b[0;34m]\u001b[0m\u001b[0;34m.\u001b[0m\u001b[0mcount\u001b[0m\u001b[0;34m(\u001b[0m\u001b[0;34m)\u001b[0m\u001b[0;34m,\u001b[0m\u001b[0;34m\u001b[0m\u001b[0;34m\u001b[0m\u001b[0m\n\u001b[0m\u001b[1;32m      5\u001b[0m     \u001b[0mTrip201502\u001b[0m\u001b[0;34m[\u001b[0m\u001b[0;34m'start station id'\u001b[0m\u001b[0;34m]\u001b[0m\u001b[0;34m.\u001b[0m\u001b[0mcount\u001b[0m\u001b[0;34m(\u001b[0m\u001b[0;34m)\u001b[0m\u001b[0;34m,\u001b[0m\u001b[0;34m\u001b[0m\u001b[0;34m\u001b[0m\u001b[0m\n\u001b[1;32m      6\u001b[0m     \u001b[0mTrip201503\u001b[0m\u001b[0;34m[\u001b[0m\u001b[0;34m'start station id'\u001b[0m\u001b[0;34m]\u001b[0m\u001b[0;34m.\u001b[0m\u001b[0mcount\u001b[0m\u001b[0;34m(\u001b[0m\u001b[0;34m)\u001b[0m\u001b[0;34m,\u001b[0m\u001b[0;34m\u001b[0m\u001b[0;34m\u001b[0m\u001b[0m\n",
      "\u001b[0;31mNameError\u001b[0m: name 'Trip201501' is not defined"
     ]
    }
   ],
   "source": [
    "\n",
    "import pandas as pd\n",
    "\n",
    "a=[\n",
    "    Trip201501['start station id'].count(),\n",
    "    Trip201502['start station id'].count(),\n",
    "    Trip201503['start station id'].count(),\n",
    "   Trip201504['start station id'].count(),\n",
    "   Trip201505['start station id'].count(),\n",
    "   Trip201506['start station id'].count(),\n",
    "   Trip201507['start station id'].count(),\n",
    "   Trip201508['start station id'].count(),\n",
    "   Trip201509['start station id'].count(),\n",
    "   Trip201510['start station id'].count(),\n",
    "   Trip201511['start station id'].count(),\n",
    "   Trip201512['start station id'].count(),\n",
    "   Trip201601['start station id'].count(),\n",
    "   Trip201602['start station id'].count(),\n",
    "   Trip201603['start station id'].count(),\n",
    "   Trip201604['start station id'].count(),\n",
    "   Trip201605['start station id'].count(),\n",
    "   Trip201606['start station id'].count(),\n",
    "   Trip201607['start station id'].count(),\n",
    "   Trip201608['start station id'].count(),\n",
    "   Trip201609['start station id'].count(),\n",
    "   Trip201610['start station id'].count(),\n",
    "   Trip201611['start station id'].count(),\n",
    "   59000,\n",
    "   Trip201701['start station id'].count(),\n",
    "   Trip201702['start station id'].count(),\n",
    "   Trip201703['start station id'].count(),\n",
    "   Trip201704['start station id'].count(),\n",
    "   Trip201705['start station id'].count(),\n",
    "   Trip201706['start station id'].count(),\n",
    "   Trip201707['start station id'].count(),\n",
    "   Trip201708['start station id'].count(),\n",
    "   Trip201709['start station id'].count(),\n",
    "   Trip201710['start station id'].count(),\n",
    "   Trip201711['start station id'].count(),\n",
    "   Trip201712['start station id'].count(),]\n",
    "\n",
    "b=['201501','201501','201503','201504','201505','201506','201507','201508','201509','201510','201511','201512','201601',\n",
    "   '201602','201603','201604','201605','201606','201607','201608','201609','201610','201611','201612','201701','201702','201703','201704','201705',\n",
    "   '201706','201707','201708','201709','201710','201711','201712']\n",
    "\n"
   ]
  },
  {
   "cell_type": "code",
   "execution_count": 4,
   "metadata": {},
   "outputs": [
    {
     "ename": "NameError",
     "evalue": "name 'Trip201501' is not defined",
     "output_type": "error",
     "traceback": [
      "\u001b[0;31m---------------------------------------------------------------------------\u001b[0m",
      "\u001b[0;31mNameError\u001b[0m                                 Traceback (most recent call last)",
      "\u001b[0;32m<ipython-input-4-e3193ea8580f>\u001b[0m in \u001b[0;36m<module>\u001b[0;34m\u001b[0m\n\u001b[0;32m----> 1\u001b[0;31m user=[Trip201501.usertype[Trip201501.usertype=='Subscriber'].count(),\n\u001b[0m\u001b[1;32m      2\u001b[0m       \u001b[0mTrip201502\u001b[0m\u001b[0;34m.\u001b[0m\u001b[0musertype\u001b[0m\u001b[0;34m[\u001b[0m\u001b[0mTrip201502\u001b[0m\u001b[0;34m.\u001b[0m\u001b[0musertype\u001b[0m\u001b[0;34m==\u001b[0m\u001b[0;34m'Subscriber'\u001b[0m\u001b[0;34m]\u001b[0m\u001b[0;34m.\u001b[0m\u001b[0mcount\u001b[0m\u001b[0;34m(\u001b[0m\u001b[0;34m)\u001b[0m\u001b[0;34m,\u001b[0m\u001b[0;34m\u001b[0m\u001b[0;34m\u001b[0m\u001b[0m\n\u001b[1;32m      3\u001b[0m       \u001b[0mTrip201503\u001b[0m\u001b[0;34m.\u001b[0m\u001b[0musertype\u001b[0m\u001b[0;34m[\u001b[0m\u001b[0mTrip201503\u001b[0m\u001b[0;34m.\u001b[0m\u001b[0musertype\u001b[0m\u001b[0;34m==\u001b[0m\u001b[0;34m'Subscriber'\u001b[0m\u001b[0;34m]\u001b[0m\u001b[0;34m.\u001b[0m\u001b[0mcount\u001b[0m\u001b[0;34m(\u001b[0m\u001b[0;34m)\u001b[0m\u001b[0;34m,\u001b[0m\u001b[0;34m\u001b[0m\u001b[0;34m\u001b[0m\u001b[0m\n\u001b[1;32m      4\u001b[0m       \u001b[0mTrip201504\u001b[0m\u001b[0;34m.\u001b[0m\u001b[0musertype\u001b[0m\u001b[0;34m[\u001b[0m\u001b[0mTrip201504\u001b[0m\u001b[0;34m.\u001b[0m\u001b[0musertype\u001b[0m\u001b[0;34m==\u001b[0m\u001b[0;34m'Subscriber'\u001b[0m\u001b[0;34m]\u001b[0m\u001b[0;34m.\u001b[0m\u001b[0mcount\u001b[0m\u001b[0;34m(\u001b[0m\u001b[0;34m)\u001b[0m\u001b[0;34m,\u001b[0m\u001b[0;34m\u001b[0m\u001b[0;34m\u001b[0m\u001b[0m\n\u001b[1;32m      5\u001b[0m       \u001b[0mTrip201505\u001b[0m\u001b[0;34m.\u001b[0m\u001b[0musertype\u001b[0m\u001b[0;34m[\u001b[0m\u001b[0mTrip201505\u001b[0m\u001b[0;34m.\u001b[0m\u001b[0musertype\u001b[0m\u001b[0;34m==\u001b[0m\u001b[0;34m'Subscriber'\u001b[0m\u001b[0;34m]\u001b[0m\u001b[0;34m.\u001b[0m\u001b[0mcount\u001b[0m\u001b[0;34m(\u001b[0m\u001b[0;34m)\u001b[0m\u001b[0;34m,\u001b[0m\u001b[0;34m\u001b[0m\u001b[0;34m\u001b[0m\u001b[0m\n",
      "\u001b[0;31mNameError\u001b[0m: name 'Trip201501' is not defined"
     ]
    }
   ],
   "source": [
    "user=[Trip201501.usertype[Trip201501.usertype=='Subscriber'].count(),\n",
    "      Trip201502.usertype[Trip201502.usertype=='Subscriber'].count(),\n",
    "      Trip201503.usertype[Trip201503.usertype=='Subscriber'].count(),\n",
    "      Trip201504.usertype[Trip201504.usertype=='Subscriber'].count(),\n",
    "      Trip201505.usertype[Trip201505.usertype=='Subscriber'].count(),\n",
    "      Trip201506.usertype[Trip201506.usertype=='Subscriber'].count(),\n",
    "      Trip201507.usertype[Trip201507.usertype=='Subscriber'].count(),\n",
    "      Trip201508.usertype[Trip201508.usertype=='Subscriber'].count(),\n",
    "      Trip201509.usertype[Trip201509.usertype=='Subscriber'].count(),\n",
    "      Trip201510.usertype[Trip201510.usertype=='Subscriber'].count(),\n",
    "      Trip201511.usertype[Trip201511.usertype=='Subscriber'].count(),\n",
    "      Trip201512.usertype[Trip201512.usertype=='Subscriber'].count(),\n",
    "      Trip201601.usertype[Trip201601.usertype=='Subscriber'].count(),\n",
    "      Trip201602.usertype[Trip201602.usertype=='Subscriber'].count(),\n",
    "      Trip201603.usertype[Trip201603.usertype=='Subscriber'].count(),\n",
    "      Trip201604.usertype[Trip201604.usertype=='Subscriber'].count(),\n",
    "      Trip201605.usertype[Trip201605.usertype=='Subscriber'].count(),\n",
    "      Trip201606.usertype[Trip201606.usertype=='Subscriber'].count(),\n",
    "      Trip201607.usertype[Trip201607.usertype=='Subscriber'].count(),\n",
    "      Trip201608.usertype[Trip201608.usertype=='Subscriber'].count(),\n",
    "      Trip201609.usertype[Trip201609.usertype=='Subscriber'].count(),\n",
    "      Trip201610.usertype[Trip201610.usertype=='Subscriber'].count(),\n",
    "      Trip201611.usertype[Trip201611.usertype=='Subscriber'].count(),\n",
    "         59000,\n",
    "      Trip201701.usertype[Trip201701.usertype=='Subscriber'].count(),\n",
    "      Trip201702.usertype[Trip201702.usertype=='Subscriber'].count(),\n",
    "      Trip201703.usertype[Trip201703.usertype=='Subscriber'].count(),\n",
    "      Trip201704.usertype[Trip201704.usertype=='Subscriber'].count(),\n",
    "      Trip201705.usertype[Trip201705.usertype=='Subscriber'].count(),\n",
    "      Trip201706.usertype[Trip201706.usertype=='Subscriber'].count(),\n",
    "      Trip201707.usertype[Trip201707.usertype=='Subscriber'].count(),\n",
    "      Trip201708.usertype[Trip201708.usertype=='Subscriber'].count(),\n",
    "      Trip201709.usertype[Trip201709.usertype=='Subscriber'].count(),\n",
    "      Trip201710.usertype[Trip201710.usertype=='Subscriber'].count(),\n",
    "      Trip201711.usertype[Trip201711.usertype=='Subscriber'].count(),\n",
    "      Trip201712.usertype[Trip201712.usertype=='Subscriber'].count(),]\n",
    "\n"
   ]
  },
  {
   "cell_type": "code",
   "execution_count": 9,
   "metadata": {},
   "outputs": [],
   "source": [
    "import pandas as pd\n",
    "import matplotlib.pyplot as plt\n",
    "data1=pd.DataFrame({'year':b,'Numb_trip':a})\n",
    "#data1.plot(x='year', y='Numb_trip', kind='scatter',color='red',alpha=0.1, s=25);"
   ]
  },
  {
   "cell_type": "code",
   "execution_count": 10,
   "metadata": {},
   "outputs": [],
   "source": [
    "data1['month']=[1,2,3,4,5,6,7,8,9,10,11,12,1,2,3,4,5,6,7,8,9,10,11,12,1,2,3,4,5,6,7,8,9,10,11,12]\n",
    "data1['yr']=[2015,2015,2015,2015,2015,2015,2015,2015,2015,2015,2015,2015,2016,2016,2016,2016,2016,2016,2016,2016,2016,2016,2016,2016,2017,2017,2017,2017,2017,2017,2017,2017,2017,2017,2017,2017]"
   ]
  },
  {
   "cell_type": "code",
   "execution_count": 11,
   "metadata": {},
   "outputs": [
    {
     "data": {
      "text/html": [
       "<div>\n",
       "<style scoped>\n",
       "    .dataframe tbody tr th:only-of-type {\n",
       "        vertical-align: middle;\n",
       "    }\n",
       "\n",
       "    .dataframe tbody tr th {\n",
       "        vertical-align: top;\n",
       "    }\n",
       "\n",
       "    .dataframe thead th {\n",
       "        text-align: right;\n",
       "    }\n",
       "</style>\n",
       "<table border=\"1\" class=\"dataframe\">\n",
       "  <thead>\n",
       "    <tr style=\"text-align: right;\">\n",
       "      <th></th>\n",
       "      <th>year</th>\n",
       "      <th>Numb_trip</th>\n",
       "      <th>month</th>\n",
       "      <th>yr</th>\n",
       "      <th>user_sub</th>\n",
       "    </tr>\n",
       "  </thead>\n",
       "  <tbody>\n",
       "    <tr>\n",
       "      <th>0</th>\n",
       "      <td>201501</td>\n",
       "      <td>7840</td>\n",
       "      <td>1</td>\n",
       "      <td>2015</td>\n",
       "      <td>5484</td>\n",
       "    </tr>\n",
       "    <tr>\n",
       "      <th>1</th>\n",
       "      <td>201501</td>\n",
       "      <td>4020</td>\n",
       "      <td>2</td>\n",
       "      <td>2015</td>\n",
       "      <td>3071</td>\n",
       "    </tr>\n",
       "    <tr>\n",
       "      <th>2</th>\n",
       "      <td>201503</td>\n",
       "      <td>11271</td>\n",
       "      <td>3</td>\n",
       "      <td>2015</td>\n",
       "      <td>8228</td>\n",
       "    </tr>\n",
       "    <tr>\n",
       "      <th>3</th>\n",
       "      <td>201504</td>\n",
       "      <td>55843</td>\n",
       "      <td>4</td>\n",
       "      <td>2015</td>\n",
       "      <td>37298</td>\n",
       "    </tr>\n",
       "    <tr>\n",
       "      <th>4</th>\n",
       "      <td>201505</td>\n",
       "      <td>149143</td>\n",
       "      <td>5</td>\n",
       "      <td>2015</td>\n",
       "      <td>99413</td>\n",
       "    </tr>\n",
       "    <tr>\n",
       "      <th>5</th>\n",
       "      <td>201506</td>\n",
       "      <td>144232</td>\n",
       "      <td>6</td>\n",
       "      <td>2015</td>\n",
       "      <td>94866</td>\n",
       "    </tr>\n",
       "    <tr>\n",
       "      <th>6</th>\n",
       "      <td>201507</td>\n",
       "      <td>175321</td>\n",
       "      <td>7</td>\n",
       "      <td>2015</td>\n",
       "      <td>122283</td>\n",
       "    </tr>\n",
       "    <tr>\n",
       "      <th>7</th>\n",
       "      <td>201508</td>\n",
       "      <td>160065</td>\n",
       "      <td>8</td>\n",
       "      <td>2015</td>\n",
       "      <td>110407</td>\n",
       "    </tr>\n",
       "    <tr>\n",
       "      <th>8</th>\n",
       "      <td>201509</td>\n",
       "      <td>150516</td>\n",
       "      <td>9</td>\n",
       "      <td>2015</td>\n",
       "      <td>100759</td>\n",
       "    </tr>\n",
       "    <tr>\n",
       "      <th>9</th>\n",
       "      <td>201510</td>\n",
       "      <td>126656</td>\n",
       "      <td>10</td>\n",
       "      <td>2015</td>\n",
       "      <td>82153</td>\n",
       "    </tr>\n",
       "    <tr>\n",
       "      <th>10</th>\n",
       "      <td>201511</td>\n",
       "      <td>88735</td>\n",
       "      <td>11</td>\n",
       "      <td>2015</td>\n",
       "      <td>56711</td>\n",
       "    </tr>\n",
       "    <tr>\n",
       "      <th>11</th>\n",
       "      <td>201512</td>\n",
       "      <td>48916</td>\n",
       "      <td>12</td>\n",
       "      <td>2015</td>\n",
       "      <td>31300</td>\n",
       "    </tr>\n",
       "    <tr>\n",
       "      <th>12</th>\n",
       "      <td>201601</td>\n",
       "      <td>12055</td>\n",
       "      <td>1</td>\n",
       "      <td>2016</td>\n",
       "      <td>9279</td>\n",
       "    </tr>\n",
       "    <tr>\n",
       "      <th>13</th>\n",
       "      <td>201602</td>\n",
       "      <td>14643</td>\n",
       "      <td>2</td>\n",
       "      <td>2016</td>\n",
       "      <td>11521</td>\n",
       "    </tr>\n",
       "    <tr>\n",
       "      <th>14</th>\n",
       "      <td>201603</td>\n",
       "      <td>41277</td>\n",
       "      <td>3</td>\n",
       "      <td>2016</td>\n",
       "      <td>28118</td>\n",
       "    </tr>\n",
       "    <tr>\n",
       "      <th>15</th>\n",
       "      <td>201604</td>\n",
       "      <td>84262</td>\n",
       "      <td>4</td>\n",
       "      <td>2016</td>\n",
       "      <td>56714</td>\n",
       "    </tr>\n",
       "    <tr>\n",
       "      <th>16</th>\n",
       "      <td>201605</td>\n",
       "      <td>129260</td>\n",
       "      <td>5</td>\n",
       "      <td>2016</td>\n",
       "      <td>100721</td>\n",
       "    </tr>\n",
       "    <tr>\n",
       "      <th>17</th>\n",
       "      <td>201606</td>\n",
       "      <td>164667</td>\n",
       "      <td>6</td>\n",
       "      <td>2016</td>\n",
       "      <td>129755</td>\n",
       "    </tr>\n",
       "    <tr>\n",
       "      <th>18</th>\n",
       "      <td>201607</td>\n",
       "      <td>167385</td>\n",
       "      <td>7</td>\n",
       "      <td>2016</td>\n",
       "      <td>128397</td>\n",
       "    </tr>\n",
       "    <tr>\n",
       "      <th>19</th>\n",
       "      <td>201608</td>\n",
       "      <td>174198</td>\n",
       "      <td>8</td>\n",
       "      <td>2016</td>\n",
       "      <td>136440</td>\n",
       "    </tr>\n",
       "    <tr>\n",
       "      <th>20</th>\n",
       "      <td>201609</td>\n",
       "      <td>165690</td>\n",
       "      <td>9</td>\n",
       "      <td>2016</td>\n",
       "      <td>134184</td>\n",
       "    </tr>\n",
       "    <tr>\n",
       "      <th>21</th>\n",
       "      <td>201610</td>\n",
       "      <td>137865</td>\n",
       "      <td>10</td>\n",
       "      <td>2016</td>\n",
       "      <td>117949</td>\n",
       "    </tr>\n",
       "    <tr>\n",
       "      <th>22</th>\n",
       "      <td>201611</td>\n",
       "      <td>99910</td>\n",
       "      <td>11</td>\n",
       "      <td>2016</td>\n",
       "      <td>88636</td>\n",
       "    </tr>\n",
       "    <tr>\n",
       "      <th>23</th>\n",
       "      <td>201612</td>\n",
       "      <td>59000</td>\n",
       "      <td>12</td>\n",
       "      <td>2016</td>\n",
       "      <td>59000</td>\n",
       "    </tr>\n",
       "    <tr>\n",
       "      <th>24</th>\n",
       "      <td>201701</td>\n",
       "      <td>19518</td>\n",
       "      <td>1</td>\n",
       "      <td>2017</td>\n",
       "      <td>18437</td>\n",
       "    </tr>\n",
       "    <tr>\n",
       "      <th>25</th>\n",
       "      <td>201702</td>\n",
       "      <td>17272</td>\n",
       "      <td>2</td>\n",
       "      <td>2017</td>\n",
       "      <td>16211</td>\n",
       "    </tr>\n",
       "    <tr>\n",
       "      <th>26</th>\n",
       "      <td>201703</td>\n",
       "      <td>31253</td>\n",
       "      <td>3</td>\n",
       "      <td>2017</td>\n",
       "      <td>29348</td>\n",
       "    </tr>\n",
       "    <tr>\n",
       "      <th>27</th>\n",
       "      <td>201704</td>\n",
       "      <td>99860</td>\n",
       "      <td>4</td>\n",
       "      <td>2017</td>\n",
       "      <td>77322</td>\n",
       "    </tr>\n",
       "    <tr>\n",
       "      <th>28</th>\n",
       "      <td>201705</td>\n",
       "      <td>127894</td>\n",
       "      <td>5</td>\n",
       "      <td>2017</td>\n",
       "      <td>105602</td>\n",
       "    </tr>\n",
       "    <tr>\n",
       "      <th>29</th>\n",
       "      <td>201706</td>\n",
       "      <td>161910</td>\n",
       "      <td>6</td>\n",
       "      <td>2017</td>\n",
       "      <td>130856</td>\n",
       "    </tr>\n",
       "    <tr>\n",
       "      <th>30</th>\n",
       "      <td>201707</td>\n",
       "      <td>175833</td>\n",
       "      <td>7</td>\n",
       "      <td>2017</td>\n",
       "      <td>135513</td>\n",
       "    </tr>\n",
       "    <tr>\n",
       "      <th>31</th>\n",
       "      <td>201708</td>\n",
       "      <td>190651</td>\n",
       "      <td>8</td>\n",
       "      <td>2017</td>\n",
       "      <td>156356</td>\n",
       "    </tr>\n",
       "    <tr>\n",
       "      <th>32</th>\n",
       "      <td>201709</td>\n",
       "      <td>165386</td>\n",
       "      <td>9</td>\n",
       "      <td>2017</td>\n",
       "      <td>142424</td>\n",
       "    </tr>\n",
       "    <tr>\n",
       "      <th>33</th>\n",
       "      <td>201710</td>\n",
       "      <td>163662</td>\n",
       "      <td>10</td>\n",
       "      <td>2017</td>\n",
       "      <td>142430</td>\n",
       "    </tr>\n",
       "    <tr>\n",
       "      <th>34</th>\n",
       "      <td>201711</td>\n",
       "      <td>105463</td>\n",
       "      <td>11</td>\n",
       "      <td>2017</td>\n",
       "      <td>97147</td>\n",
       "    </tr>\n",
       "    <tr>\n",
       "      <th>35</th>\n",
       "      <td>201712</td>\n",
       "      <td>55072</td>\n",
       "      <td>12</td>\n",
       "      <td>2017</td>\n",
       "      <td>53092</td>\n",
       "    </tr>\n",
       "  </tbody>\n",
       "</table>\n",
       "</div>"
      ],
      "text/plain": [
       "      year  Numb_trip  month    yr  user_sub\n",
       "0   201501       7840      1  2015      5484\n",
       "1   201501       4020      2  2015      3071\n",
       "2   201503      11271      3  2015      8228\n",
       "3   201504      55843      4  2015     37298\n",
       "4   201505     149143      5  2015     99413\n",
       "5   201506     144232      6  2015     94866\n",
       "6   201507     175321      7  2015    122283\n",
       "7   201508     160065      8  2015    110407\n",
       "8   201509     150516      9  2015    100759\n",
       "9   201510     126656     10  2015     82153\n",
       "10  201511      88735     11  2015     56711\n",
       "11  201512      48916     12  2015     31300\n",
       "12  201601      12055      1  2016      9279\n",
       "13  201602      14643      2  2016     11521\n",
       "14  201603      41277      3  2016     28118\n",
       "15  201604      84262      4  2016     56714\n",
       "16  201605     129260      5  2016    100721\n",
       "17  201606     164667      6  2016    129755\n",
       "18  201607     167385      7  2016    128397\n",
       "19  201608     174198      8  2016    136440\n",
       "20  201609     165690      9  2016    134184\n",
       "21  201610     137865     10  2016    117949\n",
       "22  201611      99910     11  2016     88636\n",
       "23  201612      59000     12  2016     59000\n",
       "24  201701      19518      1  2017     18437\n",
       "25  201702      17272      2  2017     16211\n",
       "26  201703      31253      3  2017     29348\n",
       "27  201704      99860      4  2017     77322\n",
       "28  201705     127894      5  2017    105602\n",
       "29  201706     161910      6  2017    130856\n",
       "30  201707     175833      7  2017    135513\n",
       "31  201708     190651      8  2017    156356\n",
       "32  201709     165386      9  2017    142424\n",
       "33  201710     163662     10  2017    142430\n",
       "34  201711     105463     11  2017     97147\n",
       "35  201712      55072     12  2017     53092"
      ]
     },
     "execution_count": 11,
     "metadata": {},
     "output_type": "execute_result"
    }
   ],
   "source": [
    "data1['user_sub']=user\n",
    "data1"
   ]
  },
  {
   "cell_type": "code",
   "execution_count": 12,
   "metadata": {},
   "outputs": [
    {
     "data": {
      "text/plain": [
       "[<matplotlib.lines.Line2D at 0x13cb90910>]"
      ]
     },
     "execution_count": 12,
     "metadata": {},
     "output_type": "execute_result"
    },
    {
     "data": {
      "image/png": "[encoded data removed]",
      "text/plain": [
       "<Figure size 720x576 with 1 Axes>"
      ]
     },
     "metadata": {
      "needs_background": "light"
     },
     "output_type": "display_data"
    }
   ],
   "source": [
    "#data1.head()\n",
    "df=data1\n",
    "#Split your date into Train and Test set. You can learn on 1 year data and test on 1 month. (considering the yearly growth of users)\n",
    "data1\n",
    "plt.figure(figsize=(10, 8))\n",
    "plt.xticks(rotation='vertical')\n",
    "plt.plot(data1['year'],data1['Numb_trip'],linewidth=1)\n",
    "# it's not a  simple linaire relation "
   ]
  },
  {
   "cell_type": "code",
   "execution_count": 13,
   "metadata": {},
   "outputs": [
    {
     "name": "stderr",
     "output_type": "stream",
     "text": [
      "/Library/Frameworks/Python.framework/Versions/3.8/lib/python3.8/site-packages/IPython/core/interactiveshell.py:3050: DtypeWarning: Columns (9) have mixed types. Specify dtype option on import or set low_memory=False.\n",
      "  has_raised = await self.run_ast_nodes(code_ast.body, cell_name,\n"
     ]
    }
   ],
   "source": [
    "Trip2011=pd.read_csv('us/hubway_Trips_2011.csv')\n",
    "Trip2012=pd.read_csv('us/hubway_Trips_2012.csv')\n",
    "Trip2013=pd.read_csv('us/hubway_Trips_2013.csv')\n",
    "Trip2014=pd.read_csv('us/hubway_Trips_2014.csv')\n",
    "Trip2011=Trip2011[['Duration','Start date','Gender','Member type']]\n",
    "Trip2012=Trip2012[['Duration','Start date','Gender','Member type']]\n",
    "Trip2013=Trip2013[['Duration','Start date','Gender','Member type']]\n",
    "Trip2014=Trip2014[['Duration','Start date','Gender','Member type']]"
   ]
  },
  {
   "cell_type": "code",
   "execution_count": null,
   "metadata": {},
   "outputs": [],
   "source": [
    "df2=Trip2014\n",
    "temp=pd.DatetimeIndex(df2['Start date'])\n",
    "df2['Date'] = temp.date\n",
    "df2['Time'] = temp.time\n",
    "df2['hourss'] = temp.hour\n",
    "df2['year'] = temp.year\n",
    "df2['month'] = temp.month\n"
   ]
  },
  {
   "cell_type": "code",
   "execution_count": null,
   "metadata": {},
   "outputs": [],
   "source": [
    "trip2014=df2"
   ]
  },
  {
   "cell_type": "code",
   "execution_count": null,
   "metadata": {},
   "outputs": [],
   "source": [
    "def changtime(data):\n",
    "    df=data\n",
    "    temp=pd.DatetimeIndex(df['Start date'])\n",
    "    df['Date'] = temp.date\n",
    "    df['Time'] = temp.time\n",
    "    df['hourss'] = temp.hour\n",
    "    df['year'] = temp.year\n",
    "    df['month'] = temp.month\n",
    "    return df"
   ]
  },
  {
   "cell_type": "code",
   "execution_count": null,
   "metadata": {},
   "outputs": [],
   "source": [
    "t2=changtime(Trip2011)\n",
    "trip2011=t2\n",
    "trip2012=changtime(Trip2012)\n",
    "trip2013=changtime(Trip2013)"
   ]
  },
  {
   "cell_type": "code",
   "execution_count": null,
   "metadata": {},
   "outputs": [],
   "source": [
    "def nb_trip(data):\n",
    "    nb_trip=data.groupby('month').count()\n",
    "    return nb_trip['year']"
   ]
  },
  {
   "cell_type": "code",
   "execution_count": 19,
   "metadata": {},
   "outputs": [],
   "source": [
    "nb_11=nb_trip(trip2011)\n",
    "nb_12=nb_trip(trip2012)\n",
    "nb_13=nb_trip(trip2013)\n",
    "nb_14=nb_trip(trip2014)\n",
    "year11=['201107','201108','201109','201110','201111']\n",
    "year12=['201203','201204','201205','201206','201207','201208','201209','201210','201211']\n",
    "year13=['201304','201305','201306','201307','201308','201309','2013010','201311','201312']\n",
    "year14=['201407','201408','201409','201410','201411','201412']\n",
    "trip11=pd.DataFrame({'year':year11,'Numb_trip':nb_11})\n",
    "trip12=pd.DataFrame({'year':year12,'Numb_trip':nb_12})\n",
    "trip13=pd.DataFrame({'year':year13,'Numb_trip':nb_13})\n",
    "trip14=pd.DataFrame({'year':year14,'Numb_trip':nb_14})"
   ]
  },
  {
   "cell_type": "code",
   "execution_count": 20,
   "metadata": {},
   "outputs": [],
   "source": [
    "test=pd.concat([trip11,trip12,trip13,trip14])\n",
    "test.index=np.arange(29)"
   ]
  },
  {
   "cell_type": "code",
   "execution_count": 21,
   "metadata": {},
   "outputs": [
    {
     "name": "stderr",
     "output_type": "stream",
     "text": [
      "<ipython-input-21-9fb9a8ad271e>:1: FutureWarning: Sorting because non-concatenation axis is not aligned. A future version\n",
      "of pandas will change to not sort by default.\n",
      "\n",
      "To accept the future behavior, pass 'sort=False'.\n",
      "\n",
      "To retain the current behavior and silence the warning, pass 'sort=True'.\n",
      "\n",
      "  data2=pd.concat([test,data1])\n"
     ]
    },
    {
     "data": {
      "text/plain": [
       "[<matplotlib.lines.Line2D at 0x1686dda30>]"
      ]
     },
     "execution_count": 21,
     "metadata": {},
     "output_type": "execute_result"
    },
    {
     "data": {
      "image/png": "[encoded data removed]",
      "text/plain": [
       "<Figure size 1440x576 with 1 Axes>"
      ]
     },
     "metadata": {
      "needs_background": "light"
     },
     "output_type": "display_data"
    }
   ],
   "source": [
    "data2=pd.concat([test,data1])\n",
    "plt.figure(figsize=(20, 8))\n",
    "plt.plot(data2.year,data2.Numb_trip)\n",
    "# after ploting the data , it doesn't like a linaire regression "
   ]
  },
  {
   "cell_type": "code",
   "execution_count": 16,
   "metadata": {},
   "outputs": [],
   "source": [
    "data1['od_flow']=data1['Numb_trip']\n",
    "data1=data1.drop('Numb_trip',axis=1,inplace =False)"
   ]
  },
  {
   "cell_type": "code",
   "execution_count": 17,
   "metadata": {},
   "outputs": [],
   "source": [
    "data1\n",
    "c=data1"
   ]
  },
  {
   "cell_type": "code",
   "execution_count": null,
   "metadata": {},
   "outputs": [],
   "source": []
  },
  {
   "cell_type": "code",
   "execution_count": null,
   "metadata": {},
   "outputs": [],
   "source": []
  },
  {
   "cell_type": "markdown",
   "metadata": {},
   "source": [
    "# Try Ridge Regression¶"
   ]
  },
  {
   "cell_type": "code",
   "execution_count": 18,
   "metadata": {},
   "outputs": [],
   "source": [
    "a=data1\n",
    "#a=data2\n",
    "#a.replace([np.nan],0,inplace=True)"
   ]
  },
  {
   "cell_type": "code",
   "execution_count": 19,
   "metadata": {},
   "outputs": [
    {
     "data": {
      "text/plain": [
       "Index(['year', 'month', 'yr', 'user_sub', 'od_flow'], dtype='object')"
      ]
     },
     "execution_count": 19,
     "metadata": {},
     "output_type": "execute_result"
    }
   ],
   "source": [
    "a.columns[:5]"
   ]
  },
  {
   "cell_type": "code",
   "execution_count": 453,
   "metadata": {},
   "outputs": [],
   "source": [
    "fir_try=np.array(a)"
   ]
  },
  {
   "cell_type": "code",
   "execution_count": 458,
   "metadata": {},
   "outputs": [],
   "source": [
    "#X save 0-4 dimension feacturs \n",
    "X=fir_try[:,0:4]\n",
    "#taget value\n",
    "y=fir_try[:,4]"
   ]
  },
  {
   "cell_type": "code",
   "execution_count": 459,
   "metadata": {},
   "outputs": [],
   "source": [
    "from sklearn.preprocessing import PolynomialFeatures\n",
    "poly =PolynomialFeatures(5)\n",
    "# x as the polynome facteurs\n",
    "X=poly.fit_transform(X)"
   ]
  },
  {
   "cell_type": "code",
   "execution_count": 517,
   "metadata": {},
   "outputs": [
    {
     "data": {
      "image/png": "[encoded data removed]",
      "text/plain": [
       "<Figure size 432x288 with 1 Axes>"
      ]
     },
     "metadata": {
      "needs_background": "light"
     },
     "output_type": "display_data"
    }
   ],
   "source": [
    "from sklearn import model_selection\n",
    "train_set_X,test_set_X,train_set_y,test_set_y=\\\n",
    "model_selection.train_test_split(X,y,test_size=0.4,random_state=0)\n",
    "\n",
    "# step1-find out the optimal lambdas\n",
    "lambs=np.logspace(-5,2,200)\n",
    "ridge_cofficients=[]\n",
    "\n",
    "for lamb in lambs :\n",
    "    ridge=Ridge(alpha=lamb,normalize=True)\n",
    "    ridge.fit(train_set_X,train_set_y)\n",
    "    ridge_cofficients.append(ridge.coef_)\n",
    "    \n",
    "plt.plot(lambs,ridge_cofficients)\n",
    "plt.xscale('log')\n",
    "plt.xlabel('Log(Lambda)')\n",
    "plt.ylabel('cofficients')\n",
    "plt.show()\n"
   ]
  },
  {
   "cell_type": "code",
   "execution_count": 518,
   "metadata": {},
   "outputs": [
    {
     "data": {
      "text/plain": [
       "0.011489510001873086"
      ]
     },
     "execution_count": 518,
     "metadata": {},
     "output_type": "execute_result"
    }
   ],
   "source": [
    "# cross-verification to define lambdas\n",
    "from sklearn.linear_model import RidgeCV\n",
    "RidgeCV(alphas=(0.1,1.0,10),fit_intercept=True,normalize=False,scoring=None,cv=None,store_cv_values=False)\n",
    "#face to every lamdas in lams do 10 times verification \n",
    "ridge_cv=RidgeCV(alphas=lambs,normalize=True,scoring='neg_mean_squared_error',cv=10)\n",
    "ridge_cv.fit(train_set_X,train_set_y)\n",
    "ridge_best_lamb=ridge_cv.alpha_\n",
    "ridge_best_lamb"
   ]
  },
  {
   "cell_type": "code",
   "execution_count": 24,
   "metadata": {},
   "outputs": [
    {
     "ename": "NameError",
     "evalue": "name 'ridge_best_lamb' is not defined",
     "output_type": "error",
     "traceback": [
      "\u001b[0;31m---------------------------------------------------------------------------\u001b[0m",
      "\u001b[0;31mNameError\u001b[0m                                 Traceback (most recent call last)",
      "\u001b[0;32m<ipython-input-24-392787d0b584>\u001b[0m in \u001b[0;36m<module>\u001b[0;34m\u001b[0m\n\u001b[1;32m      1\u001b[0m \u001b[0;31m#step2- build model to predict with the best lambdas\u001b[0m\u001b[0;34m\u001b[0m\u001b[0;34m\u001b[0m\u001b[0;34m\u001b[0m\u001b[0m\n\u001b[1;32m      2\u001b[0m \u001b[0;32mfrom\u001b[0m \u001b[0msklearn\u001b[0m\u001b[0;34m.\u001b[0m\u001b[0mlinear_model\u001b[0m \u001b[0;32mimport\u001b[0m \u001b[0mRidge\u001b[0m\u001b[0;34m\u001b[0m\u001b[0;34m\u001b[0m\u001b[0m\n\u001b[0;32m----> 3\u001b[0;31m \u001b[0mclf\u001b[0m \u001b[0;34m=\u001b[0m\u001b[0mRidge\u001b[0m\u001b[0;34m(\u001b[0m\u001b[0malpha\u001b[0m\u001b[0;34m=\u001b[0m\u001b[0mridge_best_lamb\u001b[0m\u001b[0;34m,\u001b[0m\u001b[0mfit_intercept\u001b[0m\u001b[0;34m=\u001b[0m\u001b[0;32mTrue\u001b[0m\u001b[0;34m)\u001b[0m\u001b[0;34m\u001b[0m\u001b[0;34m\u001b[0m\u001b[0m\n\u001b[0m\u001b[1;32m      4\u001b[0m \u001b[0mclf\u001b[0m\u001b[0;34m.\u001b[0m\u001b[0mfit\u001b[0m\u001b[0;34m(\u001b[0m\u001b[0mtrain_set_X\u001b[0m\u001b[0;34m,\u001b[0m\u001b[0mtrain_set_y\u001b[0m\u001b[0;34m)\u001b[0m\u001b[0;34m\u001b[0m\u001b[0;34m\u001b[0m\u001b[0m\n",
      "\u001b[0;31mNameError\u001b[0m: name 'ridge_best_lamb' is not defined"
     ]
    }
   ],
   "source": [
    "#step2- build model to predict with the best lambdas \n",
    "from sklearn.linear_model import Ridge\n",
    "clf =Ridge(alpha=ridge_best_lamb,fit_intercept=True)\n",
    "clf.fit(train_set_X,train_set_y)"
   ]
  },
  {
   "cell_type": "code",
   "execution_count": 520,
   "metadata": {},
   "outputs": [
    {
     "data": {
      "text/plain": [
       "2962228.1448225877"
      ]
     },
     "execution_count": 520,
     "metadata": {},
     "output_type": "execute_result"
    }
   ],
   "source": [
    "ridge.intercept_"
   ]
  },
  {
   "cell_type": "code",
   "execution_count": 529,
   "metadata": {},
   "outputs": [],
   "source": [
    "#ridge.coef_"
   ]
  },
  {
   "cell_type": "code",
   "execution_count": 522,
   "metadata": {},
   "outputs": [
    {
     "data": {
      "text/plain": [
       "0.6202919307446314"
      ]
     },
     "execution_count": 522,
     "metadata": {},
     "output_type": "execute_result"
    }
   ],
   "source": [
    "clf.score(test_set_X,test_set_y)"
   ]
  },
  {
   "cell_type": "code",
   "execution_count": 523,
   "metadata": {},
   "outputs": [
    {
     "data": {
      "text/plain": [
       "0.8857613306825324"
      ]
     },
     "execution_count": 523,
     "metadata": {},
     "output_type": "execute_result"
    }
   ],
   "source": [
    "clf.score(X,y)"
   ]
  },
  {
   "cell_type": "code",
   "execution_count": 524,
   "metadata": {},
   "outputs": [
    {
     "data": {
      "text/plain": [
       "array([300470.95142337, 164377.51986665, 136703.43935989, 160058.02759779,\n",
       "       115709.23758185,  56094.43888547,  73858.85869028,  13653.64126087,\n",
       "        35330.53495729, 153957.54286903,  74322.11176075,  32019.62580492,\n",
       "       171299.13960691, 126055.62144367, 176229.94618166])"
      ]
     },
     "execution_count": 524,
     "metadata": {},
     "output_type": "execute_result"
    }
   ],
   "source": [
    "# step 3 predict the test-data et comparer\n",
    "test_y_pre=clf.predict(test_set_X)\n",
    "test_y_pre"
   ]
  },
  {
   "cell_type": "code",
   "execution_count": 542,
   "metadata": {},
   "outputs": [
    {
     "data": {
      "text/plain": [
       "array([300471., 164378., 136703., 160058., 115709.,  56094.,  73859.,\n",
       "        13654.,  35331., 153958.,  74322.,  32020., 171299., 126056.,\n",
       "       176230.])"
      ]
     },
     "execution_count": 542,
     "metadata": {},
     "output_type": "execute_result"
    }
   ],
   "source": [
    "test_y_pre=np.around(test_y_pre, decimals=0,out=None)\n",
    "test_y_pre"
   ]
  },
  {
   "cell_type": "code",
   "execution_count": 534,
   "metadata": {},
   "outputs": [
    {
     "data": {
      "text/plain": [
       "array([190651, 165690, 129260, 175833, 99910, 84262, 88735, 11271, 48916,\n",
       "       161910, 99860, 55072, 163662, 127894, 165386], dtype=object)"
      ]
     },
     "execution_count": 534,
     "metadata": {},
     "output_type": "execute_result"
    }
   ],
   "source": [
    "test_set_y"
   ]
  },
  {
   "cell_type": "code",
   "execution_count": 546,
   "metadata": {},
   "outputs": [],
   "source": [
    "# Campare the results\n",
    "campare=pd.DataFrame({'origine data':test_set_y,'predict data':test_y_pre})\n",
    "#campare"
   ]
  },
  {
   "cell_type": "code",
   "execution_count": 526,
   "metadata": {},
   "outputs": [
    {
     "data": {
      "text/plain": [
       "[<matplotlib.lines.Line2D at 0x16063d8b0>]"
      ]
     },
     "execution_count": 526,
     "metadata": {},
     "output_type": "execute_result"
    },
    {
     "data": {
      "image/png": "[encoded data removed]",
      "text/plain": [
       "<Figure size 432x288 with 1 Axes>"
      ]
     },
     "metadata": {
      "needs_background": "light"
     },
     "output_type": "display_data"
    }
   ],
   "source": [
    "#plot test set \n",
    "plt.plot(test_set_y,label='real')\n",
    "plt.plot(test_y_pre,label='prediction')"
   ]
  },
  {
   "cell_type": "code",
   "execution_count": 527,
   "metadata": {},
   "outputs": [
    {
     "data": {
      "text/plain": [
       "31882.18068447046"
      ]
     },
     "execution_count": 527,
     "metadata": {},
     "output_type": "execute_result"
    }
   ],
   "source": [
    "#Calculate the errors \n",
    "from sklearn.metrics import mean_squared_error\n",
    "rsme=np.sqrt(mean_squared_error(test_set_y,test_y_pre))\n",
    "rsme"
   ]
  },
  {
   "cell_type": "code",
   "execution_count": 531,
   "metadata": {},
   "outputs": [],
   "source": []
  },
  {
   "cell_type": "markdown",
   "metadata": {},
   "source": [
    "# Try to improve the results"
   ]
  },
  {
   "cell_type": "code",
   "execution_count": 32,
   "metadata": {},
   "outputs": [],
   "source": [
    "improve=data1.drop('year',axis=1)\n",
    "sec_try=np.array(improve)"
   ]
  },
  {
   "cell_type": "code",
   "execution_count": 33,
   "metadata": {},
   "outputs": [],
   "source": [
    "#X save 0-3 dimension feacturs \n",
    "X=sec_try[:,0:3]\n",
    "#taget value\n",
    "y=sec_try[:,3]"
   ]
  },
  {
   "cell_type": "code",
   "execution_count": 34,
   "metadata": {},
   "outputs": [],
   "source": [
    "from sklearn.preprocessing import PolynomialFeatures\n",
    "poly =PolynomialFeatures(4)\n",
    "# x as the polynome facteurs\n",
    "X=poly.fit_transform(X)"
   ]
  },
  {
   "cell_type": "code",
   "execution_count": 35,
   "metadata": {},
   "outputs": [
    {
     "data": {
      "image/png": "[encoded data removed]",
      "text/plain": [
       "<Figure size 432x288 with 1 Axes>"
      ]
     },
     "metadata": {
      "needs_background": "light"
     },
     "output_type": "display_data"
    }
   ],
   "source": [
    "from sklearn import model_selection\n",
    "train_set_X,test_set_X,train_set_y,test_set_y=\\\n",
    "model_selection.train_test_split(X,y,test_size=0.4,random_state=0)\n",
    "\n",
    "# step1-find out the optimal lambdas\n",
    "lambs=np.logspace(-5,2,200)\n",
    "ridge_cofficients=[]\n",
    "\n",
    "for lamb in lambs :\n",
    "    ridge=Ridge(alpha=lamb,normalize=True)\n",
    "    ridge.fit(train_set_X,train_set_y)\n",
    "    ridge_cofficients.append(ridge.coef_)\n",
    "    \n",
    "plt.plot(lambs,ridge_cofficients)\n",
    "plt.xscale('log')\n",
    "plt.xlabel('Log(Lambda)')\n",
    "plt.ylabel('cofficients')\n",
    "plt.show()"
   ]
  },
  {
   "cell_type": "code",
   "execution_count": 36,
   "metadata": {},
   "outputs": [
    {
     "data": {
      "text/plain": [
       "0.002465811075822604"
      ]
     },
     "execution_count": 36,
     "metadata": {},
     "output_type": "execute_result"
    }
   ],
   "source": [
    "# cross-verification to define lambdas\n",
    "from sklearn.linear_model import RidgeCV\n",
    "RidgeCV(alphas=(0.1,1.0,10),fit_intercept=True,normalize=False,scoring=None,cv=None,store_cv_values=False)\n",
    "#face to every lamdas in lams do 10 times verification \n",
    "ridge_cv=RidgeCV(alphas=lambs,normalize=True,scoring='neg_mean_squared_error',cv=10)\n",
    "ridge_cv.fit(train_set_X,train_set_y)\n",
    "ridge_best_lamb=ridge_cv.alpha_\n",
    "ridge_best_lamb"
   ]
  },
  {
   "cell_type": "code",
   "execution_count": 37,
   "metadata": {},
   "outputs": [
    {
     "name": "stderr",
     "output_type": "stream",
     "text": [
      "/Library/Frameworks/Python.framework/Versions/3.8/lib/python3.8/site-packages/sklearn/linear_model/_ridge.py:190: UserWarning: Singular matrix in solving dual problem. Using least-squares solution instead.\n",
      "  warnings.warn(\"Singular matrix in solving dual problem. Using \"\n"
     ]
    },
    {
     "data": {
      "text/plain": [
       "Ridge(alpha=0.002465811075822604, copy_X=True, fit_intercept=True,\n",
       "      max_iter=None, normalize=False, random_state=None, solver='auto',\n",
       "      tol=0.001)"
      ]
     },
     "execution_count": 37,
     "metadata": {},
     "output_type": "execute_result"
    }
   ],
   "source": [
    "#step2- build model to predict with the best lambdas \n",
    "from sklearn.linear_model import Ridge\n",
    "clf =Ridge(alpha=ridge_best_lamb,fit_intercept=True)\n",
    "clf.fit(train_set_X,train_set_y)"
   ]
  },
  {
   "cell_type": "code",
   "execution_count": 38,
   "metadata": {},
   "outputs": [
    {
     "data": {
      "text/plain": [
       "1173341.114031624"
      ]
     },
     "execution_count": 38,
     "metadata": {},
     "output_type": "execute_result"
    }
   ],
   "source": [
    "ridge.intercept_"
   ]
  },
  {
   "cell_type": "code",
   "execution_count": 39,
   "metadata": {},
   "outputs": [
    {
     "data": {
      "text/plain": [
       "0.8638292254641126"
      ]
     },
     "execution_count": 39,
     "metadata": {},
     "output_type": "execute_result"
    }
   ],
   "source": [
    "clf.score(test_set_X,test_set_y)"
   ]
  },
  {
   "cell_type": "code",
   "execution_count": 40,
   "metadata": {},
   "outputs": [
    {
     "data": {
      "text/plain": [
       "array([196353.30267253, 168495.91929233, 160724.98081628, 172957.86653441,\n",
       "       111260.18493916,  95578.56645143,  67493.20628034,   8749.27327085,\n",
       "        27781.23135925, 172645.45934899, 136579.82763407,  58453.00197787,\n",
       "       179222.46629352, 164971.79119601, 178658.11223154])"
      ]
     },
     "execution_count": 40,
     "metadata": {},
     "output_type": "execute_result"
    }
   ],
   "source": [
    "# step 3 predict the test-data et comparer\n",
    "test_y_pre=clf.predict(test_set_X)\n",
    "test_y_pre"
   ]
  },
  {
   "cell_type": "code",
   "execution_count": 41,
   "metadata": {},
   "outputs": [
    {
     "data": {
      "text/plain": [
       "array([196353., 168496., 160725., 172958., 111260.,  95579.,  67493.,\n",
       "         8749.,  27781., 172645., 136580.,  58453., 179222., 164972.,\n",
       "       178658.])"
      ]
     },
     "execution_count": 41,
     "metadata": {},
     "output_type": "execute_result"
    }
   ],
   "source": [
    "test_y_pre=np.around(test_y_pre, decimals=0,out=None)\n",
    "test_y_pre"
   ]
  },
  {
   "cell_type": "code",
   "execution_count": 42,
   "metadata": {},
   "outputs": [],
   "source": [
    "# Campare the results\n",
    "campare=pd.DataFrame({'origine data':test_set_y,'predict data':test_y_pre})\n",
    "#campare"
   ]
  },
  {
   "cell_type": "code",
   "execution_count": 43,
   "metadata": {},
   "outputs": [
    {
     "data": {
      "text/plain": [
       "[<matplotlib.lines.Line2D at 0x16e49a760>]"
      ]
     },
     "execution_count": 43,
     "metadata": {},
     "output_type": "execute_result"
    },
    {
     "data": {
      "image/png": "[encoded data removed]",
      "text/plain": [
       "<Figure size 432x288 with 1 Axes>"
      ]
     },
     "metadata": {
      "needs_background": "light"
     },
     "output_type": "display_data"
    }
   ],
   "source": [
    "#plot test set \n",
    "plt.plot(test_set_y,label='real')\n",
    "plt.plot(test_y_pre,label='prediction')"
   ]
  },
  {
   "cell_type": "code",
   "execution_count": 44,
   "metadata": {
    "scrolled": true
   },
   "outputs": [
    {
     "data": {
      "text/plain": [
       "19092.640826594245"
      ]
     },
     "execution_count": 44,
     "metadata": {},
     "output_type": "execute_result"
    }
   ],
   "source": [
    "#Calculate the errors \n",
    "from sklearn.metrics import mean_squared_error\n",
    "rsme=np.sqrt(mean_squared_error(test_set_y,test_y_pre))\n",
    "rsme"
   ]
  },
  {
   "cell_type": "code",
   "execution_count": 589,
   "metadata": {
    "scrolled": true
   },
   "outputs": [
    {
     "data": {
      "text/html": [
       "<div>\n",
       "<style scoped>\n",
       "    .dataframe tbody tr th:only-of-type {\n",
       "        vertical-align: middle;\n",
       "    }\n",
       "\n",
       "    .dataframe tbody tr th {\n",
       "        vertical-align: top;\n",
       "    }\n",
       "\n",
       "    .dataframe thead th {\n",
       "        text-align: right;\n",
       "    }\n",
       "</style>\n",
       "<table border=\"1\" class=\"dataframe\">\n",
       "  <thead>\n",
       "    <tr style=\"text-align: right;\">\n",
       "      <th></th>\n",
       "      <th>origine data</th>\n",
       "      <th>predict data</th>\n",
       "    </tr>\n",
       "  </thead>\n",
       "  <tbody>\n",
       "    <tr>\n",
       "      <th>0</th>\n",
       "      <td>190651</td>\n",
       "      <td>196353.0</td>\n",
       "    </tr>\n",
       "    <tr>\n",
       "      <th>1</th>\n",
       "      <td>165690</td>\n",
       "      <td>168496.0</td>\n",
       "    </tr>\n",
       "    <tr>\n",
       "      <th>2</th>\n",
       "      <td>129260</td>\n",
       "      <td>160725.0</td>\n",
       "    </tr>\n",
       "    <tr>\n",
       "      <th>3</th>\n",
       "      <td>175833</td>\n",
       "      <td>172958.0</td>\n",
       "    </tr>\n",
       "    <tr>\n",
       "      <th>4</th>\n",
       "      <td>99910</td>\n",
       "      <td>111260.0</td>\n",
       "    </tr>\n",
       "    <tr>\n",
       "      <th>5</th>\n",
       "      <td>84262</td>\n",
       "      <td>95579.0</td>\n",
       "    </tr>\n",
       "    <tr>\n",
       "      <th>6</th>\n",
       "      <td>88735</td>\n",
       "      <td>67493.0</td>\n",
       "    </tr>\n",
       "    <tr>\n",
       "      <th>7</th>\n",
       "      <td>11271</td>\n",
       "      <td>8749.0</td>\n",
       "    </tr>\n",
       "    <tr>\n",
       "      <th>8</th>\n",
       "      <td>48916</td>\n",
       "      <td>27781.0</td>\n",
       "    </tr>\n",
       "    <tr>\n",
       "      <th>9</th>\n",
       "      <td>161910</td>\n",
       "      <td>172645.0</td>\n",
       "    </tr>\n",
       "    <tr>\n",
       "      <th>10</th>\n",
       "      <td>99860</td>\n",
       "      <td>136580.0</td>\n",
       "    </tr>\n",
       "    <tr>\n",
       "      <th>11</th>\n",
       "      <td>55072</td>\n",
       "      <td>58453.0</td>\n",
       "    </tr>\n",
       "    <tr>\n",
       "      <th>12</th>\n",
       "      <td>163662</td>\n",
       "      <td>179222.0</td>\n",
       "    </tr>\n",
       "    <tr>\n",
       "      <th>13</th>\n",
       "      <td>127894</td>\n",
       "      <td>164972.0</td>\n",
       "    </tr>\n",
       "    <tr>\n",
       "      <th>14</th>\n",
       "      <td>165386</td>\n",
       "      <td>178658.0</td>\n",
       "    </tr>\n",
       "  </tbody>\n",
       "</table>\n",
       "</div>"
      ],
      "text/plain": [
       "    origine data  predict data\n",
       "0         190651      196353.0\n",
       "1         165690      168496.0\n",
       "2         129260      160725.0\n",
       "3         175833      172958.0\n",
       "4          99910      111260.0\n",
       "5          84262       95579.0\n",
       "6          88735       67493.0\n",
       "7          11271        8749.0\n",
       "8          48916       27781.0\n",
       "9         161910      172645.0\n",
       "10         99860      136580.0\n",
       "11         55072       58453.0\n",
       "12        163662      179222.0\n",
       "13        127894      164972.0\n",
       "14        165386      178658.0"
      ]
     },
     "execution_count": 589,
     "metadata": {},
     "output_type": "execute_result"
    }
   ],
   "source": [
    "campare"
   ]
  },
  {
   "cell_type": "code",
   "execution_count": null,
   "metadata": {},
   "outputs": [],
   "source": []
  },
  {
   "cell_type": "code",
   "execution_count": 59,
   "metadata": {},
   "outputs": [
    {
     "name": "stdout",
     "output_type": "stream",
     "text": [
      "Intercept    2.418590e+07\n",
      "month       -1.530116e+03\n",
      "yr          -1.199612e+04\n",
      "user_sub     1.393367e+00\n",
      "dtype: float64\n"
     ]
    }
   ],
   "source": [
    "# try simple multiple regression \n",
    "\n",
    "from sklearn import model_selection\n",
    "train,test=model_selection.train_test_split(data1,test_size=0.4,random_state=0)\n",
    "import statsmodels.api as sm\n",
    "model=sm.formula.ols('od_flow ~ month+yr+user_sub',data=train).fit()\n",
    "print(model.params)\n"
   ]
  },
  {
   "cell_type": "code",
   "execution_count": 61,
   "metadata": {},
   "outputs": [],
   "source": [
    "test_X=test.drop(labels='od_flow',axis=1)"
   ]
  },
  {
   "cell_type": "code",
   "execution_count": 62,
   "metadata": {},
   "outputs": [],
   "source": [
    "pred=model.predict(exog=test_X)"
   ]
  },
  {
   "cell_type": "code",
   "execution_count": 69,
   "metadata": {},
   "outputs": [],
   "source": [
    "cp=pd.DataFrame({'test':test.od_flow,'predict':pred})"
   ]
  },
  {
   "cell_type": "code",
   "execution_count": 95,
   "metadata": {},
   "outputs": [
    {
     "data": {
      "text/html": [
       "<div>\n",
       "<style scoped>\n",
       "    .dataframe tbody tr th:only-of-type {\n",
       "        vertical-align: middle;\n",
       "    }\n",
       "\n",
       "    .dataframe tbody tr th {\n",
       "        vertical-align: top;\n",
       "    }\n",
       "\n",
       "    .dataframe thead th {\n",
       "        text-align: right;\n",
       "    }\n",
       "</style>\n",
       "<table border=\"1\" class=\"dataframe\">\n",
       "  <thead>\n",
       "    <tr style=\"text-align: right;\">\n",
       "      <th></th>\n",
       "      <th>test</th>\n",
       "      <th>predict</th>\n",
       "    </tr>\n",
       "  </thead>\n",
       "  <tbody>\n",
       "    <tr>\n",
       "      <th>31</th>\n",
       "      <td>190651</td>\n",
       "      <td>195341.776947</td>\n",
       "    </tr>\n",
       "    <tr>\n",
       "      <th>20</th>\n",
       "      <td>165690</td>\n",
       "      <td>174914.052048</td>\n",
       "    </tr>\n",
       "    <tr>\n",
       "      <th>16</th>\n",
       "      <td>129260</td>\n",
       "      <td>134408.281121</td>\n",
       "    </tr>\n",
       "    <tr>\n",
       "      <th>30</th>\n",
       "      <td>175833</td>\n",
       "      <td>167829.948034</td>\n",
       "    </tr>\n",
       "    <tr>\n",
       "      <th>22</th>\n",
       "      <td>99910</td>\n",
       "      <td>108388.748513</td>\n",
       "    </tr>\n",
       "    <tr>\n",
       "      <th>15</th>\n",
       "      <td>84262</td>\n",
       "      <td>74620.503141</td>\n",
       "    </tr>\n",
       "    <tr>\n",
       "      <th>10</th>\n",
       "      <td>88735</td>\n",
       "      <td>75901.632758</td>\n",
       "    </tr>\n",
       "    <tr>\n",
       "      <th>2</th>\n",
       "      <td>11271</td>\n",
       "      <td>20587.955205</td>\n",
       "    </tr>\n",
       "    <tr>\n",
       "      <th>11</th>\n",
       "      <td>48916</td>\n",
       "      <td>38964.672681</td>\n",
       "    </tr>\n",
       "    <tr>\n",
       "      <th>29</th>\n",
       "      <td>161910</td>\n",
       "      <td>162871.154504</td>\n",
       "    </tr>\n",
       "    <tr>\n",
       "      <th>27</th>\n",
       "      <td>99860</td>\n",
       "      <td>91338.886570</td>\n",
       "    </tr>\n",
       "    <tr>\n",
       "      <th>35</th>\n",
       "      <td>55072</td>\n",
       "      <td>45336.682386</td>\n",
       "    </tr>\n",
       "    <tr>\n",
       "      <th>33</th>\n",
       "      <td>163662</td>\n",
       "      <td>172877.519062</td>\n",
       "    </tr>\n",
       "    <tr>\n",
       "      <th>28</th>\n",
       "      <td>127894</td>\n",
       "      <td>129213.184539</td>\n",
       "    </tr>\n",
       "    <tr>\n",
       "      <th>32</th>\n",
       "      <td>165386</td>\n",
       "      <td>174399.274621</td>\n",
       "    </tr>\n",
       "  </tbody>\n",
       "</table>\n",
       "</div>"
      ],
      "text/plain": [
       "      test        predict\n",
       "31  190651  195341.776947\n",
       "20  165690  174914.052048\n",
       "16  129260  134408.281121\n",
       "30  175833  167829.948034\n",
       "22   99910  108388.748513\n",
       "15   84262   74620.503141\n",
       "10   88735   75901.632758\n",
       "2    11271   20587.955205\n",
       "11   48916   38964.672681\n",
       "29  161910  162871.154504\n",
       "27   99860   91338.886570\n",
       "35   55072   45336.682386\n",
       "33  163662  172877.519062\n",
       "28  127894  129213.184539\n",
       "32  165386  174399.274621"
      ]
     },
     "execution_count": 95,
     "metadata": {},
     "output_type": "execute_result"
    }
   ],
   "source": [
    "cp"
   ]
  },
  {
   "cell_type": "code",
   "execution_count": null,
   "metadata": {},
   "outputs": [],
   "source": []
  },
  {
   "cell_type": "code",
   "execution_count": 78,
   "metadata": {},
   "outputs": [
    {
     "data": {
      "text/plain": [
       "<matplotlib.collections.PathCollection at 0x16755c430>"
      ]
     },
     "execution_count": 78,
     "metadata": {},
     "output_type": "execute_result"
    },
    {
     "data": {
      "image/png": "[encoded data removed]",
      "text/plain": [
       "<Figure size 432x288 with 1 Axes>"
      ]
     },
     "metadata": {
      "needs_background": "light"
     },
     "output_type": "display_data"
    }
   ],
   "source": [
    "plt.scatter(test.month,test.od_flow,label='real')\n",
    "plt.scatter(test.month,pred,label='prediction')"
   ]
  },
  {
   "cell_type": "code",
   "execution_count": 79,
   "metadata": {},
   "outputs": [
    {
     "data": {
      "text/plain": [
       "8363.541698984936"
      ]
     },
     "execution_count": 79,
     "metadata": {},
     "output_type": "execute_result"
    }
   ],
   "source": [
    "from sklearn.metrics import mean_squared_error\n",
    "rsme=np.sqrt(mean_squared_error(test.od_flow,pred))\n",
    "rsme"
   ]
  },
  {
   "cell_type": "code",
   "execution_count": 80,
   "metadata": {},
   "outputs": [
    {
     "data": {
      "text/plain": [
       "KNeighborsRegressor(algorithm='auto', leaf_size=30, metric='minkowski',\n",
       "                    metric_params=None, n_jobs=None, n_neighbors=1, p=2,\n",
       "                    weights='uniform')"
      ]
     },
     "execution_count": 80,
     "metadata": {},
     "output_type": "execute_result"
    }
   ],
   "source": [
    "from sklearn.neighbors import KNeighborsRegressor\n",
    "kneighbor_regression = KNeighborsRegressor(n_neighbors=1)\n",
    "kneighbor_regression.fit(train_set_X,train_set_y)"
   ]
  },
  {
   "cell_type": "code",
   "execution_count": 93,
   "metadata": {},
   "outputs": [
    {
     "data": {
      "text/plain": [
       "[<matplotlib.lines.Line2D at 0x16768af70>]"
      ]
     },
     "execution_count": 93,
     "metadata": {},
     "output_type": "execute_result"
    },
    {
     "data": {
      "image/png": "[encoded data removed]",
      "text/plain": [
       "<Figure size 432x288 with 1 Axes>"
      ]
     },
     "metadata": {
      "needs_background": "light"
     },
     "output_type": "display_data"
    }
   ],
   "source": [
    "y_pred_train = kneighbor_regression.predict(test_set_X)\n",
    "plt.plot(test_set_X[:,1], test_set_y,\"o\")\n",
    "plt.plot(test_set_X[:,1], y_pred_train,\"o\")"
   ]
  },
  {
   "cell_type": "code",
   "execution_count": 94,
   "metadata": {},
   "outputs": [
    {
     "data": {
      "text/plain": [
       "17868.652284564345"
      ]
     },
     "execution_count": 94,
     "metadata": {},
     "output_type": "execute_result"
    }
   ],
   "source": [
    "from sklearn.metrics import mean_squared_error\n",
    "rsme=np.sqrt(mean_squared_error(test_set_y,y_pred_train))\n",
    "rsme"
   ]
  },
  {
   "cell_type": "code",
   "execution_count": null,
   "metadata": {},
   "outputs": [],
   "source": []
  },
  {
   "cell_type": "code",
   "execution_count": null,
   "metadata": {},
   "outputs": [],
   "source": []
  }
 ],
 "metadata": {
  "kernelspec": {
   "display_name": "Python 3",
   "language": "python",
   "name": "python3"
  },
  "language_info": {
   "codemirror_mode": {
    "name": "ipython",
    "version": 3
   },
   "file_extension": ".py",
   "mimetype": "text/x-python",
   "name": "python",
   "nbconvert_exporter": "python",
   "pygments_lexer": "ipython3",
   "version": "3.8.1"
  }
 },
 "nbformat": 4,
 "nbformat_minor": 2
}
